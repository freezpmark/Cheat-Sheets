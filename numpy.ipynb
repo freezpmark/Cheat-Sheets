{
 "cells": [
  {
   "cell_type": "code",
   "execution_count": null,
   "metadata": {},
   "outputs": [],
   "source": [
    "# Import NumPy package to load its functions (np is conventional abbreviation to use in the code)\n",
    "import numpy as np"
   ]
  },
  {
   "cell_type": "code",
   "execution_count": null,
   "metadata": {},
   "outputs": [],
   "source": [
    "# Initializing NumPy arrays with lists\n",
    "a = np.array([1, 2, 3, 4])\t\t# (1D) vector array (lowercase name)\n",
    "A = np.array([[2, 3],   \t\t# (2D) matrix array (uppercase name)\n",
    "              [4, 5]])\n",
    "\n",
    "# Initializing NumPy arrays with numbers\n",
    "b = np.arange(5)\t\t        # vector from 0 to 4\n",
    "c = np.arange(10, 15)\t        # vector from 10 to 14\n",
    "d = np.arange(15, 50, 10)\t    # vector from 15 to 49, with steps of 10\n",
    "e = np.linspace(0, 100, 5)\t    # vector 5 number values between 0 and 100\n",
    "f = np.empty(2)\t\t            # vector declaration that needs to be initialized\n",
    "B = np.zeros((2, 3, 4))\t        # matrix 2x3x4 (3D) matrix with zeros\n",
    "C = np.ones((1, 2))\t\t        # matrix 1x2 (2D) matrix with ones\n",
    "X = np.random.rand(5, 5)\t    # matrix 5x5 (2D) with random values <0, 1)\n",
    "Y = np.random.randn(100, 36, 36)# matrix 50x36x36 (3D) with random numbers from normal distribution"
   ]
  },
  {
   "cell_type": "code",
   "execution_count": null,
   "metadata": {},
   "outputs": [],
   "source": [
    "print(\"a =\", a); print(\"A:\\n\", A); print(\"b =\", b); print(\"c =\", c); print(\"d =\", d); print(\"e =\", e); \n",
    "print(\"f =\", f); print(\"B:\\n\", B); print(\"C:\\n\", C); print(\"X:\\n\", X); print(\"Y:\\n\", Y)"
   ]
  },
  {
   "cell_type": "code",
   "execution_count": null,
   "metadata": {},
   "outputs": [],
   "source": [
    "# Displaying properties of NumPy arrays (shape, ndim, size)\n",
    "B = np.zeros((2, 3, 4))\n",
    "B_shape = B.shape   # length of each dimensions - shape of array\n",
    "B_ndim = B.ndim    \t# amount of array dimensions\n",
    "B_size = B.size    \t# amount of values in array"
   ]
  },
  {
   "cell_type": "code",
   "execution_count": null,
   "metadata": {},
   "outputs": [],
   "source": [
    "print(\"B_shape =\", B_shape); print(\"B_ndim =\", B_ndim); print(\"B_size =\", B_size)"
   ]
  },
  {
   "cell_type": "code",
   "execution_count": null,
   "metadata": {},
   "outputs": [],
   "source": [
    "# Transforming functions of NumPy arrays (transpose, reshape)\n",
    "Y = np.random.randn(2, 2, 3)\n",
    "Y_transposed = np.transpose(Y)          # transposes Y - reverses the axes of an array\n",
    "Y_transposed = Y.transpose()            # does the same, without having to access np\n",
    "Y_reshaped = np.reshape(Y, (2, 2 * 3))  # reshapes dimensions from 2x3x2 matrix to 2x6 \n",
    "Y_reshaped = Y.reshape(2, 2 * 3)        # does the same, without having to access np\n",
    "Y_reshaped = Y.reshape(-1, 2 * 3)       # does the same, -1 lets NumPy calculate the shape length based on the remaining number of elements"
   ]
  },
  {
   "cell_type": "code",
   "execution_count": null,
   "metadata": {},
   "outputs": [],
   "source": [
    "print(\"Y.shape =\", Y.shape); print(\"Y:\\n\", Y); print(\"Y_transposed.shape\", Y_transposed.shape); print(\"Y_transposed:\\n\", Y_transposed); \n",
    "print(\"Y_reshaped.shape\", Y_reshaped.shape); print(\"Y_reshaped:\\n\", Y_reshaped)"
   ]
  },
  {
   "cell_type": "code",
   "execution_count": null,
   "metadata": {},
   "outputs": [],
   "source": [
    "# Computing functions over axises in NumPy arrays (sum/mean/exp etc.)\n",
    "X = np.array([[1, 3, 5, 7],\n",
    "              [6, 7, 3, 1],\n",
    "              [1, 4, 5, 1]])\n",
    "X_sum = np.sum(X, axis=0)\t    # sum out of elements inside of 1. array: (1,6,1)(3,7,4)(5,3,5)(7,1,1) [columns]\n",
    "\n",
    "Z = np.array([[[2, 4, 6],\n",
    "               [1, 2, 3]],\n",
    "\n",
    "              [[4, 6, 8],\n",
    "               [7, 8, 9]]])\n",
    "Z_mean_0 = np.mean(Z, axis=0)\t# compute means out of elements inside of 1. array - 1. row uses: (2,4)(4,6)(6,8)  [1on1 outside]\n",
    "Z_mean_1 = np.mean(Z, axis=1)\t# compute means out of elements inside of 2. array - 1. row uses: (2,1)(4,2),(6,3) [columns]\n",
    "Z_mean_2 = Z.mean(axis=2)\t    # compute means out of elements inside of 3. array - 1. row uses: (2,4,6)(1,2,3)   [rows]"
   ]
  },
  {
   "cell_type": "code",
   "execution_count": null,
   "metadata": {},
   "outputs": [],
   "source": [
    "print(\"X_sum\", X_sum); print(\"Z_mean_0:\\n\", Z_mean_0)\n",
    "print(\"Z_mean_1:\\n\", Z_mean_1); print(\"Z_mean_2:\\n\", Z_mean_2)"
   ]
  },
  {
   "cell_type": "code",
   "execution_count": null,
   "metadata": {},
   "outputs": [],
   "source": [
    "# Arithmetic element wise operations with vectors\n",
    "a1 = np.array([9, 8, 7, 6])\n",
    "a2 = np.array([1, 2, 3, 4])\n",
    "a_added = a1 + a2   # adding (np.add - has more parameters for adding)\n",
    "a_subtr = a1 - a2   # subtracting (np.subtract)\n",
    "a_multi = a1 * a2   # multiplication (np.multiply)\n",
    "a_divid = a1 / a2   # division (np.divide)\n",
    "\n",
    "# Vectorization with np. vs Python loops)\n",
    "# ELEMENT WISE MULTIPLICATION\n",
    "a_multi = np.multiply(a1,a2)    # [9*1, 8*2, 7*3, 8*4]\n",
    "a_multi = np.zeros(len(a1))\n",
    "for i in range(len(a1)):\n",
    "    a_multi[i] = a1[i] * a2[i]\n",
    "\n",
    "# DOT PRODUCT\n",
    "a_dot = np.dot(a1,a2)\t        # 9*1 + 8*2 + 7*3 + 6*4\n",
    "a_dot = 0\n",
    "for i in range(len(a1)):\n",
    "    a_dot += a1[i] * a2[i]\n",
    "\n",
    "# OUTER PRODUCT\n",
    "a_outer = np.outer(a1,a2)\t    # [[9*1, 9*2, 9*3, 9*4], [8*1, 8*2 …], … ]\n",
    "a_outer = np.zeros((len(a1),len(a2)))\n",
    "for i in range(len(a1)):\n",
    "    for j in range(len(a2)):\n",
    "        a_outer[i,j] = a1[i] * a2[j]"
   ]
  },
  {
   "cell_type": "code",
   "execution_count": null,
   "metadata": {},
   "outputs": [],
   "source": [
    "print(\"a_added =\", a_added); print(\"a_subtr =\", a_subtr); print(\"a_multi =\", a_multi); print(\"a_divid =\", a_divid);\n",
    "print(\"a_multi =\", a_multi); print(\"a_dot =\", a_dot); print(\"a_outer:\\n\", a_outer)"
   ]
  },
  {
   "cell_type": "code",
   "execution_count": null,
   "metadata": {},
   "outputs": [],
   "source": [
    "# Arithmetic operations with matrix and vector (multiplication and dot product)\n",
    "a1 = np.array([1, 2, 3, 4])\n",
    "A1 = np.array([[1, 2, 3, 4],\n",
    "               [5, 6, 7, 8]])\n",
    "\n",
    "Aa_multi = np.multiply(A1, a1)  # [[1*1, 2*2, 3*3, 4*4], [1*5, 1*6, 1*7, 1*8]]\n",
    "Aa_dot = np.dot(A1, a1)         # [1*1 + 2*2 + 3*3 + 4*4, 5*1 + 6*2 + 7*3 + 8*4]\n",
    "Aa_dot = np.zeros(A1.shape[0])\n",
    "for i in range(len(A1)):\n",
    "    for j in range(len(a1)):\n",
    "        Aa_dot[i] += A1[i,j] * a1[j]\n",
    "\n",
    "# Arithmetic operations with matrices (multiplication and dot product)\n",
    "A2 = np.array([[4, 6],\n",
    "               [3, 5],\n",
    "               [2, 4],\n",
    "               [1, 3]])\n",
    "A11_multi = np.multiply(A1, A2.T)   # we need to transpose A2 to match the array shapes \n",
    "                                    # [[1*4, 2*3, 3*2, 4*1], [5*6, 6*5, 7*4, 8*3]]\n",
    "A12_dot = np.dot(A1, A2)            # multiplying AxB * BxC shaped matrices (4x3 * 3x1) \n",
    "                                    # [[1*4 + 2*3 + 3*2 + 4*1, 1*6 + 2*5 + 3*4 + 4*3],\n",
    "                                    #  [5*4 + 6*3 + 7*2 + 8*1, 5*6 + 6*5 + 7*4 + 8*3]]"
   ]
  },
  {
   "cell_type": "code",
   "execution_count": null,
   "metadata": {},
   "outputs": [],
   "source": [
    "print(\"Aa_multi:\\n\", Aa_multi); print(\"Aa_dot =\", Aa_dot); \n",
    "print(\"A11_multi:\\n\", A11_multi); print(\"A12_dot:\\n\", A12_dot)"
   ]
  },
  {
   "cell_type": "code",
   "execution_count": null,
   "metadata": {},
   "outputs": [],
   "source": [
    "# Index referencing (getting element or sublist of elements from the array)\n",
    "a = np.array([1, 2, 3, 4, 5])\n",
    "one = a[0]          # gets the 1. element from the vector\n",
    "three = a[2]        # gets the 3. element from the vector\n",
    "\n",
    "A = np.array([[1, 2, 3],\n",
    "              [4, 5, 6], \n",
    "              [7, 8, 9]])\n",
    "row_0 = A[0]        # gets 1. row from 2D matrix\n",
    "eight = A[2][1]     # gets number 8 from 2D matrix\n",
    "eight = A[2, 1]     # does the same\n",
    "\n",
    "idx = [0, 2]        # saving vector as index reference in a variable\n",
    "A_idxed = A[idx]    # gets first and last row from 2D matrix\n",
    "\n",
    "# Slicing\n",
    "a_sub = a[1:4]       # gets all elements except for the first and last one\n",
    "a_sub = a[1:-1]      # does the same, -1 is the last element\n",
    "A_sub = A[0:2]       # gets first two rows from 2D matrix\n",
    "A_sub = A[:2]        # does the same\n",
    "A_sub_rows = A[1:4]  # gets last two rows\n",
    "A_sub_cols = A[:, 1] # gets all rows' second element\n",
    "\n",
    "B = np.array([[[1,2,3], [2,3,4], [4,5,6]],\n",
    "              [[2,3,4], [6,5,4], [4,3,2]]])\n",
    "B_sub_step = B[::, ::, ::2] # gets first and last element in the vectors"
   ]
  },
  {
   "cell_type": "code",
   "execution_count": null,
   "metadata": {},
   "outputs": [],
   "source": [
    "print(\"one =\", one); print(\"three =\", three); print(\"row_0 =\", row_0); print(\"eight =\", eight)\n",
    "print(\"a_sub =\", a_sub); print(\"A_sub:\\n\", A_sub); print(\"A_sub_rows:\\n\", A_sub_rows); print(\"A_sub_cols =\", A_sub_cols)\n",
    "print(\"B_sub_step:\\n\", B_sub_step)"
   ]
  },
  {
   "cell_type": "code",
   "execution_count": null,
   "metadata": {},
   "outputs": [],
   "source": [
    "# Copying and Broadcasting (treating arrays with different shapes during arithmetic operations)\n",
    "X1 = np.array([[2, 3, 4],\n",
    "               [3, 5, 8],\n",
    "               [9, 8, 0]])\n",
    "X2 = np.copy(X1)\n",
    "X2[:] = 1   # sets all values to 1\n",
    "\n",
    "X3 = X2.copy()\n",
    "X3[0] = 0   # sets all values in the first row to 0\n",
    "\n",
    "X4 = X3 * 2 # multipling matrix with a scalar (Python list would just duplicate the values)"
   ]
  },
  {
   "cell_type": "code",
   "execution_count": null,
   "metadata": {},
   "outputs": [],
   "source": [
    "print(\"X1:\\n\", X1); print(\"X2:\\n\", X2); print(\"X3:\\n\", X3); print(\"X4:\\n\", X4)"
   ]
  },
  {
   "cell_type": "code",
   "execution_count": null,
   "metadata": {},
   "outputs": [],
   "source": [
    "# Types and conversions\n",
    "A1 = np.zeros((3, 3))\n",
    "\n",
    "A2 = A1.copy()\n",
    "A2 = A2.astype('bool')  # conversion into bool type\n",
    "\n",
    "A3_idx = A2.copy()      # creating matrix for index reference\n",
    "A3_idx[0, 2] = True\n",
    "A3_idx[1][0] = True\n",
    "A3_idx[2] = True\n",
    "\n",
    "X1 = np.array([[0, 0, 0],\n",
    "              [0, 0, 8],\n",
    "              [0, 1, 2]])\n",
    "X1[A3_idx] = 300 # broadcasting using fully sized matrix as index reference \n",
    "\n",
    "# Conditioned filtering\n",
    "X2 = X1.copy()\n",
    "zeros_idx = X2 == 0     # get all 0 values\n",
    "X2[zeros_idx] = 10\t    # set them to 10\n",
    "\n",
    "# NumPy arrays contain only one type of variables. If there are more, it will be converted into string.\n",
    "# If there are numbers and there’s also bool value, it’s going to be changed into a number. \n",
    "# Conversion priorities: string > int > bool\n",
    "X_dtype = X.dtype"
   ]
  },
  {
   "cell_type": "code",
   "execution_count": null,
   "metadata": {},
   "outputs": [],
   "source": [
    "print(\"A1:\\n\", A1); print(\"A2:\\n\", A2); print(\"A3_idx:\\n\", A3_idx)\n",
    "print(\"X1:\\n\", X1); print(\"X2:\\n\", X2); print(\"X_dtype =\", X_dtype)"
   ]
  },
  {
   "cell_type": "code",
   "execution_count": null,
   "metadata": {},
   "outputs": [],
   "source": [
    "# Stacking\n",
    "a1 = np.array([[1,1], \n",
    "               [2,2]])\n",
    "a2 = np.array([[3,3],\n",
    "              [4,4]])\n",
    "v_stack = np.vstack((a1, a2))\t# joins arrays vertically, with a1 on the top\n",
    "h_stack = np.hstack((a1, a2))\t# joins arrays horizontally, with a1 on the left\n",
    "print(h_stack)\t# [[1 1 3 3]\n",
    "#  [2 2 4 4]]\n",
    "\n",
    "# hsplit - splits an array into several smaller arrays\n",
    "\n",
    "\n",
    "\n",
    "# Solving linear systems\n",
    "A = np.array([-1, 3],\n",
    "             [3, 2])\n",
    "b = np.array([7, 1])\n",
    "x = np.linalg.solve(A, b)\t# [-1. 2.]\n",
    "d = np.linalg.det(A)\t    # -11\n",
    "\n",
    "# Vectors:\n",
    "# v = np.array([[1],[3]])\n",
    "# print(\"Norm of a vector v is\", np.linalg.norm(v))\n",
    "\n",
    "# @ does the dot product too. Np.dot handles python’s lists, but @ must have np.\n",
    "# https://stackoverflow.com/questions/34142485/difference-between-numpy-dot-and-python-3-5-matrix-multiplication\n",
    "# matmul"
   ]
  },
  {
   "cell_type": "code",
   "execution_count": null,
   "metadata": {},
   "outputs": [],
   "source": []
  },
  {
   "cell_type": "code",
   "execution_count": null,
   "metadata": {},
   "outputs": [],
   "source": []
  },
  {
   "cell_type": "code",
   "execution_count": null,
   "metadata": {},
   "outputs": [],
   "source": []
  }
 ],
 "metadata": {
  "kernelspec": {
   "display_name": "venv",
   "language": "python",
   "name": "python3"
  },
  "language_info": {
   "name": "python",
   "version": "3.10.0"
  },
  "orig_nbformat": 4,
  "vscode": {
   "interpreter": {
    "hash": "6af92b0a5047c9a79dfbfa849c59507eeca405c0d9f89ccc533af7543810c82d"
   }
  }
 },
 "nbformat": 4,
 "nbformat_minor": 2
}
