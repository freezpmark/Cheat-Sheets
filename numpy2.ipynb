{
 "cells": [
  {
   "cell_type": "code",
   "execution_count": 3,
   "metadata": {},
   "outputs": [],
   "source": [
    "# Import NumPy package to load its functions (np is conventional abbreviation to use in the code)\n",
    "import numpy as np"
   ]
  },
  {
   "cell_type": "code",
   "execution_count": 36,
   "metadata": {},
   "outputs": [],
   "source": [
    "# Initializing NumPy arrays with lists\n",
    "a = np.array([1, 2, 3, 4])\t\t# (1D) vector array (lowercase name)\n",
    "A = np.array([[2, 3],   \t\t# (2D) matrix array (uppercase name)\n",
    "              [4, 5]])\n",
    "\n",
    "# Initializing NumPy arrays with numbers\n",
    "b = np.arange(5)\t\t        # vector from 0 to 4\n",
    "c = np.arange(10, 15)\t        # vector from 10 to 14\n",
    "d = np.arange(15, 50, 10)\t    # vector from 15 to 49, with steps of 10\n",
    "e = np.linspace(0, 100, 5)\t    # vector 5 number values between 0 and 100\n",
    "f = np.empty(2)\t\t            # vector declaration that needs to be initialized\n",
    "B = np.zeros((2, 3, 4))\t        # matrix 2x3x4 (3D) matrix with zeros\n",
    "C = np.ones((1, 2))\t\t        # matrix 1x2 (2D) matrix with ones\n",
    "X = np.random.rand(5, 5)\t    # matrix 5x5 (2D) with random values <0, 1)\n",
    "Y = np.random.randn(100, 36, 36)# matrix 50x36x36 (3D) with random numbers from normal distribution"
   ]
  },
  {
   "cell_type": "code",
   "execution_count": 37,
   "metadata": {
    "tags": []
   },
   "outputs": [
    {
     "name": "stdout",
     "output_type": "stream",
     "text": [
      "a = [1 2 3 4]\n",
      "A:\n",
      " [[2 3]\n",
      " [4 5]]\n",
      "b = [0 1 2 3 4]\n",
      "c = [10 11 12 13 14]\n",
      "d = [15 25 35 45]\n",
      "e = [  0.  25.  50.  75. 100.]\n",
      "f = [2.91184574e-14 5.08182580e-66]\n",
      "B:\n",
      " [[[0. 0. 0. 0.]\n",
      "  [0. 0. 0. 0.]\n",
      "  [0. 0. 0. 0.]]\n",
      "\n",
      " [[0. 0. 0. 0.]\n",
      "  [0. 0. 0. 0.]\n",
      "  [0. 0. 0. 0.]]]\n",
      "C:\n",
      " [[1. 1.]]\n",
      "X:\n",
      " [[0.75366737 0.49881085 0.08654389 0.41575646 0.94460381]\n",
      " [0.95251509 0.86483616 0.64835694 0.1824719  0.15286954]\n",
      " [0.36111567 0.16050151 0.17204196 0.27152655 0.47624862]\n",
      " [0.42078317 0.1334147  0.29894496 0.4485635  0.64169186]\n",
      " [0.0667609  0.75067684 0.04064287 0.30524118 0.08582638]]\n",
      "Y:\n",
      " [[[ 0.56886131  0.43748164 -0.72104155 ... -1.20277462 -1.14176569\n",
      "   -0.08518875]\n",
      "  [ 0.087108    0.19815367 -0.34212991 ... -0.10386498  0.51809341\n",
      "    1.39947547]\n",
      "  [-0.56498325 -2.05611084 -0.6853519  ...  1.02026657 -0.17496698\n",
      "    0.36496658]\n",
      "  ...\n",
      "  [-0.91822833 -1.72474642 -1.40823634 ... -0.4297296   0.37525342\n",
      "    1.44901006]\n",
      "  [-0.23541697 -0.12706423  0.36044692 ...  0.07766336 -0.85922143\n",
      "   -0.5273989 ]\n",
      "  [ 0.78472058  0.10693098 -0.53253128 ...  1.42847564 -0.78876241\n",
      "   -0.1867789 ]]\n",
      "\n",
      " [[ 0.74558642 -0.59388954  1.35168226 ... -0.07783759 -1.44371629\n",
      "   -2.06459659]\n",
      "  [ 0.09742058 -0.80124435  0.22183021 ...  0.45150663  0.25706161\n",
      "    0.3170976 ]\n",
      "  [-0.97338569 -0.37333654  1.82212547 ...  1.08758782  2.09949522\n",
      "   -0.53958196]\n",
      "  ...\n",
      "  [ 0.7127679   1.56748272  0.57011422 ...  0.27486813 -1.25277205\n",
      "    0.61748743]\n",
      "  [ 0.94896108  1.65921512 -0.7995281  ... -1.42082637  0.15589365\n",
      "   -0.52722435]\n",
      "  [-0.33657329  1.26015211  0.63398417 ...  0.9476387   0.65351259\n",
      "   -0.08478414]]\n",
      "\n",
      " [[-1.19777826  0.67912892 -0.20389274 ...  0.35439916  1.6114803\n",
      "    0.38033331]\n",
      "  [-2.37512592  2.1118131   0.30663744 ...  0.35504479 -0.83762258\n",
      "   -1.04817952]\n",
      "  [-1.27245574  0.02172614  0.50632288 ...  0.00462741 -0.48987866\n",
      "   -0.42138822]\n",
      "  ...\n",
      "  [ 0.3849882  -0.80344593 -0.12688447 ...  1.56841146 -0.40339932\n",
      "    0.16828591]\n",
      "  [-0.47874236 -0.27017142 -0.33222521 ... -1.53091655 -0.08068519\n",
      "   -0.67154498]\n",
      "  [-0.7074248  -0.52998292  0.02080611 ...  0.94651173  0.70290298\n",
      "    1.05850859]]\n",
      "\n",
      " ...\n",
      "\n",
      " [[ 0.01862823  0.11073763 -0.26016534 ... -0.21161964 -0.60705565\n",
      "    0.39809663]\n",
      "  [ 1.67981343  0.9491225  -0.54593985 ... -0.48291199  0.2822517\n",
      "    0.20290383]\n",
      "  [ 0.36096388  0.39192156 -0.0793342  ... -0.3099535   0.09342242\n",
      "    1.73855525]\n",
      "  ...\n",
      "  [-1.10169313  0.81889201  0.5224869  ... -1.88564912  0.1060056\n",
      "    0.82774484]\n",
      "  [-0.09380463 -0.26823313 -2.38490083 ... -0.94754723  0.19678094\n",
      "   -0.15573827]\n",
      "  [ 1.1249898   1.04415642  1.43795341 ...  0.19069304 -1.49386516\n",
      "    0.27951641]]\n",
      "\n",
      " [[-0.4206709   0.57817889  0.4069229  ... -0.55341217 -1.22748651\n",
      "    0.78114816]\n",
      "  [-1.25807902  0.07297409  0.48845578 ... -1.73951588  0.39363654\n",
      "   -0.50985688]\n",
      "  [ 0.8107908  -0.45490867  0.59730189 ...  1.08778685  0.59407723\n",
      "   -1.43699891]\n",
      "  ...\n",
      "  [-0.75475009 -0.55894601  0.80842137 ... -0.96802622 -0.31550397\n",
      "    0.49957097]\n",
      "  [ 1.4418368   1.94920487 -0.08169484 ...  0.33570245 -1.0862436\n",
      "   -0.74188802]\n",
      "  [-1.98768769  2.22826986 -0.72408795 ... -0.38717965 -0.12679943\n",
      "    1.00014362]]\n",
      "\n",
      " [[ 0.06116627 -0.92002504  2.08894533 ... -1.02926552  0.70668622\n",
      "   -0.3270161 ]\n",
      "  [-0.00486374 -0.02657324  0.68728507 ...  0.13764948 -0.87869928\n",
      "    2.43875166]\n",
      "  [-0.52866932  0.51387552 -0.53624706 ...  0.94724424  1.30699596\n",
      "   -1.56797421]\n",
      "  ...\n",
      "  [-0.03693554  0.7181928  -0.61188143 ...  0.75313603  0.11345855\n",
      "   -1.15800428]\n",
      "  [-1.01791633  1.56609873  0.20378903 ...  2.16600707  0.52975524\n",
      "   -1.26575056]\n",
      "  [-0.86104561  0.90427868 -0.86849181 ...  0.93981948  0.70690373\n",
      "    0.89987674]]]\n"
     ]
    }
   ],
   "source": [
    "print(\"a =\", a); print(\"A:\\n\", A); print(\"b =\", b); print(\"c =\", c); print(\"d =\", d); print(\"e =\", e); \n",
    "print(\"f =\", f); print(\"B:\\n\", B); print(\"C:\\n\", C); print(\"X:\\n\", X); print(\"Y:\\n\", Y)"
   ]
  },
  {
   "cell_type": "code",
   "execution_count": 38,
   "metadata": {},
   "outputs": [],
   "source": [
    "# Displaying properties of NumPy arrays (shape, ndim, size)\n",
    "B = np.zeros((2, 3, 4))\n",
    "B_shape = B.shape   # length of each dimensions - shape of array\n",
    "B_ndim = B.ndim    \t# amount of array dimensions\n",
    "B_size = B.size    \t# amount of values in array"
   ]
  },
  {
   "cell_type": "code",
   "execution_count": 39,
   "metadata": {},
   "outputs": [
    {
     "name": "stdout",
     "output_type": "stream",
     "text": [
      "B_shape = (2, 3, 4)\n",
      "B_ndim = 3\n",
      "B_size = 24\n"
     ]
    }
   ],
   "source": [
    "print(\"B_shape =\", B_shape); print(\"B_ndim =\", B_ndim); print(\"B_size =\", B_size)"
   ]
  },
  {
   "cell_type": "code",
   "execution_count": 40,
   "metadata": {},
   "outputs": [],
   "source": [
    "# Transforming functions of NumPy arrays (transpose, reshape)\n",
    "Y = np.random.randn(2, 2, 3)\n",
    "Y_transposed = np.transpose(Y)          # transposes Y - reverses the axes of an array\n",
    "Y_transposed = Y.transpose()            # does the same, without having to access np\n",
    "Y_reshaped = np.reshape(Y, (2, 2 * 3))  # reshapes dimensions from 2x3x2 matrix to 2x6 \n",
    "Y_reshaped = Y.reshape(2, 2 * 3)        # does the same, without having to access np\n",
    "Y_reshaped = Y.reshape(-1, 2 * 3)       # does the same, -1 lets NumPy calculate the shape length based on the remaining number of elements"
   ]
  },
  {
   "cell_type": "code",
   "execution_count": 41,
   "metadata": {},
   "outputs": [
    {
     "name": "stdout",
     "output_type": "stream",
     "text": [
      "Y.shape = (2, 2, 3)\n",
      "Y:\n",
      " [[[ 0.57324478 -0.22017291  0.87544821]\n",
      "  [ 1.17262222  0.37475888 -0.14709959]]\n",
      "\n",
      " [[-0.15351335  0.25644018 -0.0416597 ]\n",
      "  [ 0.9422955  -0.51412511  0.02765335]]]\n",
      "Y_transposed.shape (3, 2, 2)\n",
      "Y_transposed:\n",
      " [[[ 0.57324478 -0.15351335]\n",
      "  [ 1.17262222  0.9422955 ]]\n",
      "\n",
      " [[-0.22017291  0.25644018]\n",
      "  [ 0.37475888 -0.51412511]]\n",
      "\n",
      " [[ 0.87544821 -0.0416597 ]\n",
      "  [-0.14709959  0.02765335]]]\n",
      "Y_reshaped.shape (2, 6)\n",
      "Y_reshaped:\n",
      " [[ 0.57324478 -0.22017291  0.87544821  1.17262222  0.37475888 -0.14709959]\n",
      " [-0.15351335  0.25644018 -0.0416597   0.9422955  -0.51412511  0.02765335]]\n"
     ]
    }
   ],
   "source": [
    "print(\"Y.shape =\", Y.shape); print(\"Y:\\n\", Y); print(\"Y_transposed.shape\", Y_transposed.shape); print(\"Y_transposed:\\n\", Y_transposed); \n",
    "print(\"Y_reshaped.shape\", Y_reshaped.shape); print(\"Y_reshaped:\\n\", Y_reshaped)"
   ]
  },
  {
   "cell_type": "code",
   "execution_count": 42,
   "metadata": {},
   "outputs": [],
   "source": [
    "# Computing functions over axises in NumPy arrays (sum/mean/exp etc.)\n",
    "X = np.array([[1, 3, 5, 7],\n",
    "              [6, 7, 3, 1],\n",
    "              [1, 4, 5, 1]])\n",
    "X_sum = np.sum(X, axis=0)\t    # sum out of elements inside of 1. array: (1,6,1)(3,7,4)(5,3,5)(7,1,1) [columns]\n",
    "\n",
    "Z = np.array([[[2, 4, 6],\n",
    "               [1, 2, 3]],\n",
    "\n",
    "              [[4, 6, 8],\n",
    "               [7, 8, 9]]])\n",
    "Z_mean_0 = np.mean(Z, axis=0)\t# compute means out of elements inside of 1. array - 1. row uses: (2,4)(4,6)(6,8)  [1on1 outside]\n",
    "Z_mean_1 = np.mean(Z, axis=1)\t# compute means out of elements inside of 2. array - 1. row uses: (2,1)(4,2),(6,3) [columns]\n",
    "Z_mean_2 = Z.mean(axis=2)\t    # compute means out of elements inside of 3. array - 1. row uses: (2,4,6)(1,2,3)   [rows]"
   ]
  },
  {
   "cell_type": "code",
   "execution_count": 43,
   "metadata": {},
   "outputs": [
    {
     "name": "stdout",
     "output_type": "stream",
     "text": [
      "X_sum [ 8 14 13  9]\n",
      "Z_mean_0:\n",
      " [[3. 5. 7.]\n",
      " [4. 5. 6.]]\n",
      "Z_mean_1:\n",
      " [[1.5 3.  4.5]\n",
      " [5.5 7.  8.5]]\n",
      "Z_mean_2:\n",
      " [[4. 2.]\n",
      " [6. 8.]]\n"
     ]
    }
   ],
   "source": [
    "print(\"X_sum\", X_sum); print(\"Z_mean_0:\\n\", Z_mean_0)\n",
    "print(\"Z_mean_1:\\n\", Z_mean_1); print(\"Z_mean_2:\\n\", Z_mean_2)"
   ]
  },
  {
   "cell_type": "code",
   "execution_count": 44,
   "metadata": {},
   "outputs": [],
   "source": [
    "# Arithmetic element wise operations with vectors\n",
    "a1 = np.array([9, 8, 7, 6])\n",
    "a2 = np.array([1, 2, 3, 4])\n",
    "a_added = a1 + a2   # adding (np.add - has more parameters for adding)\n",
    "a_subtr = a1 - a2   # subtracting (np.subtract)\n",
    "a_multi = a1 * a2   # multiplication (np.multiply)\n",
    "a_divid = a1 / a2   # division (np.divide)\n",
    "\n",
    "# Vectorization with np. vs Python loops)\n",
    "# ELEMENT WISE MULTIPLICATION\n",
    "a_multi = np.multiply(a1,a2)    # [9*1, 8*2, 7*3, 8*4]\n",
    "a_multi = np.zeros(len(a1))\n",
    "for i in range(len(a1)):\n",
    "    a_multi[i] = a1[i] * a2[i]\n",
    "\n",
    "# DOT PRODUCT\n",
    "a_dot = np.dot(a1,a2)\t        # 9*1 + 8*2 + 7*3 + 6*4\n",
    "a_dot = 0\n",
    "for i in range(len(a1)):\n",
    "    a_dot += a1[i] * a2[i]\n",
    "\n",
    "# OUTER PRODUCT\n",
    "a_outer = np.outer(a1,a2)\t    # [[9*1, 9*2, 9*3, 9*4], [8*1, 8*2 …], … ]\n",
    "a_outer = np.zeros((len(a1),len(a2)))\n",
    "for i in range(len(a1)):\n",
    "    for j in range(len(a2)):\n",
    "        a_outer[i,j] = a1[i] * a2[j]"
   ]
  },
  {
   "cell_type": "code",
   "execution_count": 45,
   "metadata": {},
   "outputs": [
    {
     "name": "stdout",
     "output_type": "stream",
     "text": [
      "a_added = [10 10 10 10]\n",
      "a_subtr = [8 6 4 2]\n",
      "a_multi = [ 9. 16. 21. 24.]\n",
      "a_divid = [9.         4.         2.33333333 1.5       ]\n",
      "a_multi = [ 9. 16. 21. 24.]\n",
      "a_dot = 70\n",
      "a_outer:\n",
      " [[ 9. 18. 27. 36.]\n",
      " [ 8. 16. 24. 32.]\n",
      " [ 7. 14. 21. 28.]\n",
      " [ 6. 12. 18. 24.]]\n"
     ]
    }
   ],
   "source": [
    "print(\"a_added =\", a_added); print(\"a_subtr =\", a_subtr); print(\"a_multi =\", a_multi); print(\"a_divid =\", a_divid);\n",
    "print(\"a_multi =\", a_multi); print(\"a_dot =\", a_dot); print(\"a_outer:\\n\", a_outer)"
   ]
  },
  {
   "cell_type": "code",
   "execution_count": 46,
   "metadata": {},
   "outputs": [],
   "source": [
    "# Arithmetic operations with matrix and vector (multiplication and dot product)\n",
    "a1 = np.array([1, 2, 3, 4])\n",
    "A1 = np.array([[1, 2, 3, 4],\n",
    "               [5, 6, 7, 8]])\n",
    "\n",
    "Aa_multi = np.multiply(A1, a1)  # [[1*1, 2*2, 3*3, 4*4], [1*5, 1*6, 1*7, 1*8]]\n",
    "Aa_dot = np.dot(A1, a1)         # [1*1 + 2*2 + 3*3 + 4*4, 5*1 + 6*2 + 7*3 + 8*4]\n",
    "Aa_dot = np.zeros(A1.shape[0])\n",
    "for i in range(len(A1)):\n",
    "    for j in range(len(a1)):\n",
    "        Aa_dot[i] += A1[i,j] * a1[j]\n",
    "\n",
    "# Arithmetic operations with matrices (multiplication and dot product)\n",
    "A2 = np.array([[4, 6],\n",
    "               [3, 5],\n",
    "               [2, 4],\n",
    "               [1, 3]])\n",
    "A11_multi = np.multiply(A1, A2.T)   # we need to transpose A2 to match the array shapes \n",
    "                                    # [[1*4, 2*3, 3*2, 4*1], [5*6, 6*5, 7*4, 8*3]]\n",
    "A12_dot = np.dot(A1, A2)            # multiplying AxB * BxC shaped matrices (4x3 * 3x1) \n",
    "                                    # [[1*4 + 2*3 + 3*2 + 4*1, 1*6 + 2*5 + 3*4 + 4*3],\n",
    "                                    #  [5*4 + 6*3 + 7*2 + 8*1, 5*6 + 6*5 + 7*4 + 8*3]]"
   ]
  },
  {
   "cell_type": "code",
   "execution_count": 47,
   "metadata": {},
   "outputs": [
    {
     "name": "stdout",
     "output_type": "stream",
     "text": [
      "Aa_multi:\n",
      " [[ 1  4  9 16]\n",
      " [ 5 12 21 32]]\n",
      "Aa_dot = [30. 70.]\n",
      "A11_multi:\n",
      " [[ 4  6  6  4]\n",
      " [30 30 28 24]]\n",
      "A12_dot:\n",
      " [[ 20  40]\n",
      " [ 60 112]]\n"
     ]
    }
   ],
   "source": [
    "print(\"Aa_multi:\\n\", Aa_multi); print(\"Aa_dot =\", Aa_dot); \n",
    "print(\"A11_multi:\\n\", A11_multi); print(\"A12_dot:\\n\", A12_dot);"
   ]
  },
  {
   "cell_type": "code",
   "execution_count": 48,
   "metadata": {},
   "outputs": [],
   "source": [
    "# Index referencing (getting element or sublist of elements from the array)\n",
    "a = np.array([1, 2, 3, 4, 5])\n",
    "one = a[0]          # gets the 1. element from the vector\n",
    "three = a[2]        # gets the 3. element from the vector\n",
    "\n",
    "A = np.array([[1, 2, 3],\n",
    "              [4, 5, 6], \n",
    "              [7, 8, 9]])\n",
    "row_0 = A[0]        # gets 1. row from 2D matrix\n",
    "eight = A[2][1]     # gets number 8 from 2D matrix\n",
    "eight = A[2, 1]     # does the same\n",
    "\n",
    "idx = [0, 2]        # saving vector as index reference in a variable\n",
    "A_idxed = A[idx]    # gets first and last row from 2D matrix\n",
    "\n",
    "# Slicing\n",
    "a_sub = a[1:4]       # gets all elements except for the first and last one\n",
    "a_sub = a[1:-1]      # does the same, -1 is the last element\n",
    "A_sub = A[0:2]       # gets first two rows from 2D matrix\n",
    "A_sub = A[:2]        # does the same\n",
    "A_sub_rows = A[1:4]  # gets last two rows\n",
    "A_sub_cols = A[:, 1] # gets all rows' second element\n",
    "\n",
    "B = np.array([[[1,2,3], [2,3,4], [4,5,6]],\n",
    "              [[2,3,4], [6,5,4], [4,3,2]]])\n",
    "B_sub_step = B[::, ::, ::2] # gets first and last element in the vectors\n"
   ]
  },
  {
   "cell_type": "code",
   "execution_count": 50,
   "metadata": {},
   "outputs": [
    {
     "name": "stdout",
     "output_type": "stream",
     "text": [
      "one = 1\n",
      "three = 3\n",
      "row_0 = [1 2 3]\n",
      "eight = 8\n",
      "a_sub = [2 3 4]\n",
      "A_sub:\n",
      " [[1 2 3]\n",
      " [4 5 6]]\n",
      "A_sub_rows:\n",
      " [[4 5 6]\n",
      " [7 8 9]]\n",
      "A_sub_cols = [2 5 8]\n",
      "B_sub_step:\n",
      " [[[1 3]\n",
      "  [2 4]\n",
      "  [4 6]]\n",
      "\n",
      " [[2 4]\n",
      "  [6 4]\n",
      "  [4 2]]]\n"
     ]
    }
   ],
   "source": [
    "print(\"one =\", one); print(\"three =\", three); print(\"row_0 =\", row_0); print(\"eight =\", eight)\n",
    "print(\"a_sub =\", a_sub); print(\"A_sub:\\n\", A_sub); print(\"A_sub_rows:\\n\", A_sub_rows); print(\"A_sub_cols =\", A_sub_cols)\n",
    "print(\"B_sub_step:\\n\", B_sub_step)"
   ]
  },
  {
   "cell_type": "code",
   "execution_count": 23,
   "metadata": {},
   "outputs": [],
   "source": [
    "# Copying and Broadcasting (treating arrays with different shapes during arithmetic operations)\n",
    "X1 = np.array([[2, 3, 4],\n",
    "               [3, 5, 8],\n",
    "               [9, 8, 0]])\n",
    "X2 = np.copy(X1)\n",
    "X2[:] = 1   # sets all values to 1\n",
    "\n",
    "X3 = X2.copy()\n",
    "X3[0] = 0   # sets all values in the first row to 0\n",
    "\n",
    "X4 = X3 * 2 # multipling matrix with a scalar (Python list would just duplicate the values)"
   ]
  },
  {
   "cell_type": "code",
   "execution_count": 51,
   "metadata": {},
   "outputs": [
    {
     "name": "stdout",
     "output_type": "stream",
     "text": [
      "X1:\n",
      " [[2 3 4]\n",
      " [3 5 8]\n",
      " [9 8 0]]\n",
      "X2:\n",
      " [[1 1 1]\n",
      " [1 1 1]\n",
      " [1 1 1]]\n",
      "X3:\n",
      " [[0 0 0]\n",
      " [1 1 1]\n",
      " [1 1 1]]\n",
      "X4:\n",
      " [[0 0 0]\n",
      " [2 2 2]\n",
      " [2 2 2]]\n"
     ]
    }
   ],
   "source": [
    "print(\"X1:\\n\", X1); print(\"X2:\\n\", X2); print(\"X3:\\n\", X3); print(\"X4:\\n\", X4)"
   ]
  },
  {
   "cell_type": "code",
   "execution_count": 6,
   "metadata": {},
   "outputs": [],
   "source": [
    "# Types and conversions\n",
    "# NumPy arrays contain only one type of variables. If there are more, it will be converted into string.\n",
    "# If there are numbers and there’s also bool value, it’s going to be changed into a number. \n",
    "# Priorities: string > int > bool\n",
    "A1 = np.zeros((3, 3))\n",
    "\n",
    "A2 = A1.copy()\n",
    "A2 = A2.astype('bool')  # conversion into bool type\n",
    "\n",
    "A3 = A2.copy()\n",
    "A3[0, 2] = True\n",
    "A3[1][0] = True\n",
    "A3[2] = True\n",
    "\n",
    "# print(bool_idx.dtype)\t\t\t    # float64 displays type of array\n",
    "# print(bool_idx)\n",
    "\n",
    "# X[bool_idx] = 300\t# using fully sized matrix as index reference (broadcast)\n",
    "# print(X)\t\t    # [[ 0 0 300]\\n [ 300 5 8]\\n [ 300 300 300]]\n",
    "\n",
    "# # Conditioned filtering\n",
    "# bool_idx = X < 10\t# get all 0 values\n",
    "# print(bool_idx)    \t# [[True True False]\\n [False True True]\\n [False False False]]\n",
    "# X[bool_idx] = 1\t    # set them to 1\n",
    "# print(X)\t\t    # [[ 1 1 300]\\n [ 300 1 1]\\n [ 300 300 300]]\n",
    "\n",
    "# C = np.array([[[1,2,3],[2,3,4],[4,5,6]],\n",
    "#               [[2,3,4],[6,5,4],[4,3,2]]])\n"
   ]
  },
  {
   "cell_type": "code",
   "execution_count": 7,
   "metadata": {},
   "outputs": [
    {
     "name": "stdout",
     "output_type": "stream",
     "text": [
      "[[0. 0. 0.]\n",
      " [0. 0. 0.]\n",
      " [0. 0. 0.]]\n",
      "[[False False False]\n",
      " [False False False]\n",
      " [False False False]]\n",
      "[[False False  True]\n",
      " [ True False False]\n",
      " [ True  True  True]]\n"
     ]
    }
   ],
   "source": [
    "print(A1)\n",
    "print(A2)\n",
    "print(A3)"
   ]
  },
  {
   "cell_type": "code",
   "execution_count": null,
   "metadata": {},
   "outputs": [],
   "source": []
  },
  {
   "cell_type": "code",
   "execution_count": null,
   "metadata": {},
   "outputs": [],
   "source": [
    "# Stacking\n",
    "\n",
    "a1 = np.array([[1,1], \n",
    "               [2,2]])\n",
    "a2 = np.array([[3,3],\n",
    "              [4,4]])\n",
    "v_stack = np.vstack((a1, a2))\t# joins arrays vertically, with a1 on the top\n",
    "h_stack = np.hstack((a1, a2))\t# joins arrays horizontally, with a1 on the left\n",
    "print(h_stack)\t# [[1 1 3 3]\n",
    "#  [2 2 4 4]]\n",
    "\n",
    "# hsplit - splits an array into several smaller arrays\n",
    "\n",
    "\n",
    "\n",
    "Solving linear systems\n",
    "A = np.array([-1, 3],\n",
    "             [3, 2]])\n",
    "b = np.array([7, 1])\n",
    "x = np.linalg.solve(A, b)\t# [-1. 2.]\n",
    "d = np.linalg.det(A)\t# -11"
   ]
  }
 ],
 "metadata": {
  "kernelspec": {
   "display_name": "venv",
   "language": "python",
   "name": "python3"
  },
  "language_info": {
   "codemirror_mode": {
    "name": "ipython",
    "version": 3
   },
   "file_extension": ".py",
   "mimetype": "text/x-python",
   "name": "python",
   "nbconvert_exporter": "python",
   "pygments_lexer": "ipython3",
   "version": "3.10.0"
  },
  "orig_nbformat": 4,
  "vscode": {
   "interpreter": {
    "hash": "6af92b0a5047c9a79dfbfa849c59507eeca405c0d9f89ccc533af7543810c82d"
   }
  }
 },
 "nbformat": 4,
 "nbformat_minor": 2
}
