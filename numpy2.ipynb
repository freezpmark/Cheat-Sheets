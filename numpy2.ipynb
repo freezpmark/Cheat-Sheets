{
 "cells": [
  {
   "cell_type": "code",
   "execution_count": 8,
   "metadata": {},
   "outputs": [],
   "source": [
    "# Import NumPy package to load its functions (np is conventional abbreviation to use in the code)\n",
    "import numpy as np"
   ]
  },
  {
   "cell_type": "code",
   "execution_count": 9,
   "metadata": {},
   "outputs": [],
   "source": [
    "# Initializing NumPy arrays with lists\n",
    "a = np.array([1, 2, 3, 4])\t\t# (1D) vector array (lowercase name)\n",
    "A = np.array([[2, 3],   \t\t# (2D) matrix array (uppercase name)\n",
    "              [4, 5]])\n",
    "\n",
    "# Initializing NumPy arrays with numbers\n",
    "b = np.arange(5)\t\t        # vector from 0 to 4\n",
    "c = np.arange(10, 15)\t        # vector from 10 to 14\n",
    "d = np.arange(15, 50, 10)\t    # vector from 15 to 49, with steps of 10\n",
    "e = np.linspace(0, 100, 5)\t    # vector 5 number values between 0 and 100\n",
    "f = np.empty(2)\t\t            # vector declaration that needs to be initialized\n",
    "B = np.zeros((2, 3, 4))\t        # matrix 2x3x4 (3D) matrix with zeros\n",
    "C = np.ones((1, 2))\t\t        # matrix 1x2 (2D) matrix with ones\n",
    "X = np.random.rand(5, 5)\t    # matrix 5x5 (2D) with random values <0, 1)\n",
    "Y = np.random.randn(100, 36, 36)# matrix 50x36x36 (3D) with random numbers from normal distribution"
   ]
  },
  {
   "cell_type": "code",
   "execution_count": null,
   "metadata": {
    "tags": []
   },
   "outputs": [],
   "source": [
    "print(\"a =\", a); print(\"A:\\n\", A); print(\"b =\", b); print(\"c =\", c); print(\"d =\", d); print(\"e =\", e); \n",
    "print(\"f =\", f); print(\"B:\\n\", B); print(\"C:\\n\", C); print(\"X:\\n\", X); print(\"Y:\\n\", Y)"
   ]
  },
  {
   "cell_type": "code",
   "execution_count": 11,
   "metadata": {},
   "outputs": [],
   "source": [
    "# Displaying properties of NumPy arrays (shape, ndim, size)\n",
    "B = np.zeros((2, 3, 4))\n",
    "B_shape = B.shape   # length of each dimensions - shape of array\n",
    "B_ndim = B.ndim    \t# amount of array dimensions\n",
    "B_size = B.size    \t# amount of values in array"
   ]
  },
  {
   "cell_type": "code",
   "execution_count": null,
   "metadata": {},
   "outputs": [],
   "source": [
    "print(\"B_shape =\", B_shape); print(\"B_ndim =\", B_ndim); print(\"B_size =\", B_size)"
   ]
  },
  {
   "cell_type": "code",
   "execution_count": 13,
   "metadata": {},
   "outputs": [],
   "source": [
    "# Transforming functions of NumPy arrays (transpose, reshape)\n",
    "Y = np.random.randn(2, 2, 3)\n",
    "Y_transposed = np.transpose(Y)          # transposes Y - reverses the axes of an array\n",
    "Y_transposed = Y.transpose()            # does the same, without having to access np\n",
    "Y_reshaped = np.reshape(Y, (2, 2 * 3))  # reshapes dimensions from 2x3x2 matrix to 2x6 \n",
    "Y_reshaped = Y.reshape(2, 2 * 3)        # does the same, without having to access np\n",
    "Y_reshaped = Y.reshape(-1, 2 * 3)       # does the same, -1 lets NumPy calculate the shape length based on the remaining number of elements"
   ]
  },
  {
   "cell_type": "code",
   "execution_count": null,
   "metadata": {},
   "outputs": [],
   "source": [
    "print(\"Y.shape =\", Y.shape); print(\"Y:\\n\", Y); print(\"Y_transposed.shape\", Y_transposed.shape); print(\"Y_transposed:\\n\", Y_transposed); \n",
    "print(\"Y_reshaped.shape\", Y_reshaped.shape); print(\"Y_reshaped:\\n\", Y_reshaped)"
   ]
  }
 ],
 "metadata": {
  "kernelspec": {
   "display_name": "venv",
   "language": "python",
   "name": "python3"
  },
  "language_info": {
   "codemirror_mode": {
    "name": "ipython",
    "version": 3
   },
   "file_extension": ".py",
   "mimetype": "text/x-python",
   "name": "python",
   "nbconvert_exporter": "python",
   "pygments_lexer": "ipython3",
   "version": "3.10.0"
  },
  "orig_nbformat": 4,
  "vscode": {
   "interpreter": {
    "hash": "6af92b0a5047c9a79dfbfa849c59507eeca405c0d9f89ccc533af7543810c82d"
   }
  }
 },
 "nbformat": 4,
 "nbformat_minor": 2
}
