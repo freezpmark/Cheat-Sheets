{
 "cells": [
  {
   "cell_type": "code",
   "execution_count": 8,
   "metadata": {},
   "outputs": [],
   "source": [
    "# Import NumPy package to load its functions (np is conventional abbreviation to use in the code)\n",
    "import numpy as np"
   ]
  },
  {
   "cell_type": "code",
   "execution_count": 9,
   "metadata": {},
   "outputs": [],
   "source": [
    "# Initializing NumPy arrays with lists\n",
    "a = np.array([1, 2, 3, 4])\t\t# (1D) vector array (lowercase name)\n",
    "A = np.array([[2, 3],   \t\t# (2D) matrix array (uppercase name)\n",
    "              [4, 5]])\n",
    "\n",
    "# Initializing NumPy arrays with numbers\n",
    "b = np.arange(5)\t\t        # vector from 0 to 4\n",
    "c = np.arange(10, 15)\t        # vector from 10 to 14\n",
    "d = np.arange(15, 50, 10)\t    # vector from 15 to 49, with steps of 10\n",
    "e = np.linspace(0, 100, 5)\t    # vector 5 number values between 0 and 100\n",
    "f = np.empty(2)\t\t            # vector declaration that needs to be initialized\n",
    "B = np.zeros((2, 3, 4))\t        # matrix 2x3x4 (3D) matrix with zeros\n",
    "C = np.ones((1, 2))\t\t        # matrix 1x2 (2D) matrix with ones\n",
    "X = np.random.rand(5, 5)\t    # matrix 5x5 (2D) with random values <0, 1)\n",
    "Y = np.random.randn(100, 36, 36)# matrix 50x36x36 (3D) with random numbers from normal distribution"
   ]
  },
  {
   "cell_type": "code",
   "execution_count": null,
   "metadata": {
    "tags": []
   },
   "outputs": [],
   "source": [
    "print(\"a =\", a); print(\"A:\\n\", A); print(\"b =\", b); print(\"c =\", c); print(\"d =\", d); print(\"e =\", e); \n",
    "print(\"f =\", f); print(\"B:\\n\", B); print(\"C:\\n\", C); print(\"X:\\n\", X); print(\"Y:\\n\", Y)"
   ]
  },
  {
   "cell_type": "code",
   "execution_count": 11,
   "metadata": {},
   "outputs": [],
   "source": [
    "# Displaying properties of NumPy arrays (shape, ndim, size)\n",
    "B = np.zeros((2, 3, 4))\n",
    "B_shape = B.shape   # length of each dimensions - shape of array\n",
    "B_ndim = B.ndim    \t# amount of array dimensions\n",
    "B_size = B.size    \t# amount of values in array"
   ]
  },
  {
   "cell_type": "code",
   "execution_count": null,
   "metadata": {},
   "outputs": [],
   "source": [
    "print(\"B_shape =\", B_shape); print(\"B_ndim =\", B_ndim); print(\"B_size =\", B_size)"
   ]
  },
  {
   "cell_type": "code",
   "execution_count": 13,
   "metadata": {},
   "outputs": [],
   "source": [
    "# Transforming functions of NumPy arrays (transpose, reshape)\n",
    "Y = np.random.randn(2, 2, 3)\n",
    "Y_transposed = np.transpose(Y)          # transposes Y - reverses the axes of an array\n",
    "Y_transposed = Y.transpose()            # does the same, without having to access np\n",
    "Y_reshaped = np.reshape(Y, (2, 2 * 3))  # reshapes dimensions from 2x3x2 matrix to 2x6 \n",
    "Y_reshaped = Y.reshape(2, 2 * 3)        # does the same, without having to access np\n",
    "Y_reshaped = Y.reshape(-1, 2 * 3)       # does the same, -1 lets NumPy calculate the shape length based on the remaining number of elements"
   ]
  },
  {
   "cell_type": "code",
   "execution_count": 14,
   "metadata": {},
   "outputs": [
    {
     "name": "stdout",
     "output_type": "stream",
     "text": [
      "Y.shape = (2, 2, 3)\n",
      "Y:\n",
      " [[[ 0.11309797  1.09882021  0.91810204]\n",
      "  [-1.94165384  0.18165287 -0.2054063 ]]\n",
      "\n",
      " [[-1.14929263  0.07298979 -0.79721415]\n",
      "  [ 3.01078996 -1.27060386 -1.03670608]]]\n",
      "Y_transposed.shape (3, 2, 2)\n",
      "Y_transposed:\n",
      " [[[ 0.11309797 -1.14929263]\n",
      "  [-1.94165384  3.01078996]]\n",
      "\n",
      " [[ 1.09882021  0.07298979]\n",
      "  [ 0.18165287 -1.27060386]]\n",
      "\n",
      " [[ 0.91810204 -0.79721415]\n",
      "  [-0.2054063  -1.03670608]]]\n",
      "Y_reshaped.shape (2, 6)\n",
      "Y_reshaped:\n",
      " [[ 0.11309797  1.09882021  0.91810204 -1.94165384  0.18165287 -0.2054063 ]\n",
      " [-1.14929263  0.07298979 -0.79721415  3.01078996 -1.27060386 -1.03670608]]\n"
     ]
    }
   ],
   "source": [
    "print(\"Y.shape =\", Y.shape); print(\"Y:\\n\", Y); print(\"Y_transposed.shape\", Y_transposed.shape); print(\"Y_transposed:\\n\", Y_transposed); \n",
    "print(\"Y_reshaped.shape\", Y_reshaped.shape); print(\"Y_reshaped:\\n\", Y_reshaped)"
   ]
  },
  {
   "cell_type": "code",
   "execution_count": 15,
   "metadata": {},
   "outputs": [],
   "source": [
    "# Computing functions over axises in NumPy arrays (sum/mean/exp etc.)\n",
    "X = np.array([[1, 3, 5, 7],\n",
    "              [6, 7, 3, 1],\n",
    "              [1, 4, 5, 1]])\n",
    "X_sum = np.sum(X, axis=0)\t    # sum out of elements inside of 1. array: (1,6,1)(3,7,4)(5,3,5)(7,1,1) [columns]\n",
    "\n",
    "Z = np.array([[[2, 4, 6],\n",
    "               [1, 2, 3]],\n",
    "\n",
    "              [[4, 6, 8],\n",
    "               [7, 8, 9]]])\n",
    "Z_mean_0 = np.mean(Z, axis=0)\t# compute means out of elements inside of 1. array - 1. row uses: (2,4)(4,6)(6,8)  [1on1 outside]\n",
    "Z_mean_1 = np.mean(Z, axis=1)\t# compute means out of elements inside of 2. array - 1. row uses: (2,1)(4,2),(6,3) [columns]\n",
    "Z_mean_2 = Z.mean(axis=2)\t    # compute means out of elements inside of 3. array - 1. row uses: (2,4,6)(1,2,3)   [rows]"
   ]
  },
  {
   "cell_type": "code",
   "execution_count": 16,
   "metadata": {},
   "outputs": [
    {
     "name": "stdout",
     "output_type": "stream",
     "text": [
      "X_sum [ 8 14 13  9]\n",
      "Z_mean_0:\n",
      " [[3. 5. 7.]\n",
      " [4. 5. 6.]]\n",
      "Z_mean_1:\n",
      " [[1.5 3.  4.5]\n",
      " [5.5 7.  8.5]]\n",
      "Z_mean_2:\n",
      " [[4. 2.]\n",
      " [6. 8.]]\n"
     ]
    }
   ],
   "source": [
    "print(\"X_sum\", X_sum); print(\"Z_mean_0:\\n\", Z_mean_0)\n",
    "print(\"Z_mean_1:\\n\", Z_mean_1); print(\"Z_mean_2:\\n\", Z_mean_2)"
   ]
  },
  {
   "cell_type": "code",
   "execution_count": null,
   "metadata": {},
   "outputs": [],
   "source": [
    "# Arithmetic element wise operations with vectors\n",
    "a1 = np.array([9, 8, 7, 6])\n",
    "a2 = np.array([1, 2, 3, 4])\n",
    "a_added = a1 + a2   # adding (np.add - has more parameters for adding)\n",
    "a_subtr = a1 - a2   # subtracting (np.subtract)\n",
    "a_multi = a1 * a2   # multiplication (np.multiply)\n",
    "a_divid = a1 / a2   # division (np.divide)\n",
    "\n",
    "# Vectorization with np. vs Python loops)\n",
    "# ELEMENT WISE MULTIPLICATION\n",
    "a_multi = np.multiply(a1,a2)    # [9*1, 8*2, 7*3, 8*4]\n",
    "a_multi = np.zeros(len(a1))\n",
    "for i in range(len(a1)):\n",
    "    a_multi[i] = a1[i] * a2[i]\n",
    "\n",
    "# DOT PRODUCT\n",
    "a_dot = np.dot(a1,a2)\t        # 9*1 + 8*2 + 7*3 + 6*4\n",
    "a_dot = 0\n",
    "for i in range(len(a1)):\n",
    "    a_dot += a1[i] * a2[i]\n",
    "\n",
    "# OUTER PRODUCT\n",
    "a_outer = np.outer(a1,a2)\t    # [[9*1, 9*2, 9*3, 9*4], [8*1, 8*2 …], … ]\n",
    "a_outer = np.zeros((len(a1),len(a2)))\n",
    "for i in range(len(a1)):\n",
    "    for j in range(len(a2)):\n",
    "        a_outer[i,j] = a1[i] * a2[j]"
   ]
  },
  {
   "cell_type": "code",
   "execution_count": null,
   "metadata": {},
   "outputs": [],
   "source": [
    "print(\"a_added =\", a_added); print(\"a_subtr =\", a_subtr); print(\"a_multi =\", a_multi); print(\"a_divid =\", a_divid);\n",
    "print(\"a_multi =\", a_multi); print(\"a_dot =\", a_dot); print(\"a_outer:\\n\", a_outer)"
   ]
  },
  {
   "cell_type": "code",
   "execution_count": null,
   "metadata": {},
   "outputs": [],
   "source": []
  },
  {
   "cell_type": "code",
   "execution_count": null,
   "metadata": {},
   "outputs": [],
   "source": []
  },
  {
   "cell_type": "code",
   "execution_count": null,
   "metadata": {},
   "outputs": [],
   "source": []
  }
 ],
 "metadata": {
  "kernelspec": {
   "display_name": "venv",
   "language": "python",
   "name": "python3"
  },
  "language_info": {
   "codemirror_mode": {
    "name": "ipython",
    "version": 3
   },
   "file_extension": ".py",
   "mimetype": "text/x-python",
   "name": "python",
   "nbconvert_exporter": "python",
   "pygments_lexer": "ipython3",
   "version": "3.10.0"
  },
  "orig_nbformat": 4,
  "vscode": {
   "interpreter": {
    "hash": "6af92b0a5047c9a79dfbfa849c59507eeca405c0d9f89ccc533af7543810c82d"
   }
  }
 },
 "nbformat": 4,
 "nbformat_minor": 2
}
